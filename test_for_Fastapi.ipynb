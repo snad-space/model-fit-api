{
 "cells": [
  {
   "cell_type": "code",
   "execution_count": null,
   "id": "94cd0a8f-f204-45e5-9b00-41b74bdcb332",
   "metadata": {
    "tags": []
   },
   "outputs": [],
   "source": [
    "import requests\n",
    "import json\n",
    "import seaborn as sns\n",
    "import pandas as pd\n",
    "import matplotlib.pyplot as plt\n",
    "\n",
    "with open(\"new_project/flux_jansky_dif.json\", \"r\") as outfile:\n",
    "    lc = json.load(outfile)\n",
    "    # data = Target(light_curve=lc, ebv=0.03, name_model='salt2', t_min=58250, t_max=58375,\n",
    "    # count=1000, redshift=[0.01, 0.3])\n",
    "    data = {\n",
    "        \"light_curve\": lc,\n",
    "        \"ebv\": 0.03,\n",
    "        \"name_model\": \"salt2\",\n",
    "        \"t_min\": 58250,\n",
    "        \"t_max\": 58375,\n",
    "        \"count\": 1000,\n",
    "        \"redshift\": [0.01, 0.3],\n",
    "    }\n",
    "    # print(json.dumps(data.model_dump_json()))\n",
    "    BASE_URL = \"http://127.0.0.1:8000/api/v1/sncosmo\"\n",
    "    buf = requests.post(f\"{BASE_URL}\", json=data).json()  # .model_dump_json())\n",
    "    # \"time\": 0,\n",
    "    # \"flux\": 1,\n",
    "    # \"band\": \"string\"\n",
    "    # }).json()\n",
    "    print(buf[\"parameters\"])\n",
    "    df = pd.DataFrame.from_dict(buf[\"flux_jansky\"], orient=\"columns\")\n",
    "    sns.scatterplot(data=df, x=\"time\", y=\"flux\", hue=\"band\")\n",
    "    plt.show()"
   ]
  },
  {
   "cell_type": "code",
   "execution_count": null,
   "id": "5c06ba78-911d-4613-9953-ee592f33cb3e",
   "metadata": {},
   "outputs": [],
   "source": []
  }
 ],
 "metadata": {
  "kernelspec": {
   "display_name": "Python 3 (ipykernel)",
   "language": "python",
   "name": "python3"
  },
  "language_info": {
   "codemirror_mode": {
    "name": "ipython",
    "version": 3
   },
   "file_extension": ".py",
   "mimetype": "text/x-python",
   "name": "python",
   "nbconvert_exporter": "python",
   "pygments_lexer": "ipython3",
   "version": "3.9.2"
  }
 },
 "nbformat": 4,
 "nbformat_minor": 5
}
